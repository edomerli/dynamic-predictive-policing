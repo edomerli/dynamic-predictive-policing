{
 "cells": [
  {
   "cell_type": "code",
   "execution_count": 27,
   "metadata": {},
   "outputs": [],
   "source": [
    "import pandas as pd\n",
    "import matplotlib.pyplot as plt\n",
    "from scipy.stats import poisson\n",
    "import numpy as np\n",
    "from urllib.request import urlretrieve\n",
    "import os"
   ]
  },
  {
   "cell_type": "code",
   "execution_count": 29,
   "metadata": {},
   "outputs": [
    {
     "name": "stdout",
     "output_type": "stream",
     "text": [
      "data.csv already exists, skipping download\n"
     ]
    }
   ],
   "source": [
    "los_angeles_filename = \"Los angeles 2020-Present.csv\"\n",
    "\n",
    "# if the data is not already downloaded, download it\n",
    "if not os.path.exists(los_angeles_filename):\n",
    "    url = \"https://data.lacity.org/api/views/2nrs-mtv8/rows.csv?accessType=DOWNLOAD\"\n",
    "    urlretrieve(url, los_angeles_filename)\n",
    "else:\n",
    "    print(f\"{los_angeles_filename} already exists, skipping download\")"
   ]
  },
  {
   "cell_type": "code",
   "execution_count": 30,
   "metadata": {},
   "outputs": [],
   "source": [
    "config = {\n",
    "    \"Los Angeles\": {\n",
    "        \"filename\": los_angeles_filename,\n",
    "        \"date_column\": \"DATE OCC\",\n",
    "        \"area_column\": \"AREA\",\n",
    "        \"extract_day\": True,\n",
    "    }\n",
    "}\n",
    "\n",
    "state = \"Los Angeles\"\n",
    "\n",
    "conf = config[state]"
   ]
  },
  {
   "cell_type": "code",
   "execution_count": 31,
   "metadata": {},
   "outputs": [],
   "source": [
    "df = pd.read_csv(conf['filename'], usecols=[conf['date_column'], conf['area_column']]);\n",
    "df = df.dropna()"
   ]
  },
  {
   "cell_type": "code",
   "execution_count": 32,
   "metadata": {},
   "outputs": [
    {
     "data": {
      "text/html": [
       "<div>\n",
       "<style scoped>\n",
       "    .dataframe tbody tr th:only-of-type {\n",
       "        vertical-align: middle;\n",
       "    }\n",
       "\n",
       "    .dataframe tbody tr th {\n",
       "        vertical-align: top;\n",
       "    }\n",
       "\n",
       "    .dataframe thead th {\n",
       "        text-align: right;\n",
       "    }\n",
       "</style>\n",
       "<table border=\"1\" class=\"dataframe\">\n",
       "  <thead>\n",
       "    <tr style=\"text-align: right;\">\n",
       "      <th></th>\n",
       "      <th>DATE OCC</th>\n",
       "      <th>AREA</th>\n",
       "    </tr>\n",
       "  </thead>\n",
       "  <tbody>\n",
       "    <tr>\n",
       "      <th>0</th>\n",
       "      <td>03/01/2020 12:00:00 AM</td>\n",
       "      <td>7</td>\n",
       "    </tr>\n",
       "    <tr>\n",
       "      <th>1</th>\n",
       "      <td>02/08/2020 12:00:00 AM</td>\n",
       "      <td>1</td>\n",
       "    </tr>\n",
       "    <tr>\n",
       "      <th>2</th>\n",
       "      <td>11/04/2020 12:00:00 AM</td>\n",
       "      <td>3</td>\n",
       "    </tr>\n",
       "    <tr>\n",
       "      <th>3</th>\n",
       "      <td>03/10/2020 12:00:00 AM</td>\n",
       "      <td>9</td>\n",
       "    </tr>\n",
       "    <tr>\n",
       "      <th>4</th>\n",
       "      <td>08/17/2020 12:00:00 AM</td>\n",
       "      <td>6</td>\n",
       "    </tr>\n",
       "  </tbody>\n",
       "</table>\n",
       "</div>"
      ],
      "text/plain": [
       "                 DATE OCC  AREA\n",
       "0  03/01/2020 12:00:00 AM     7\n",
       "1  02/08/2020 12:00:00 AM     1\n",
       "2  11/04/2020 12:00:00 AM     3\n",
       "3  03/10/2020 12:00:00 AM     9\n",
       "4  08/17/2020 12:00:00 AM     6"
      ]
     },
     "execution_count": 32,
     "metadata": {},
     "output_type": "execute_result"
    }
   ],
   "source": [
    "df.head()"
   ]
  },
  {
   "cell_type": "code",
   "execution_count": 33,
   "metadata": {},
   "outputs": [
    {
     "name": "stdout",
     "output_type": "stream",
     "text": [
      "Number of areas: 21\n"
     ]
    }
   ],
   "source": [
    "print(f\"Number of areas: {df[conf['area_column']].nunique()}\")"
   ]
  },
  {
   "cell_type": "code",
   "execution_count": 34,
   "metadata": {},
   "outputs": [
    {
     "name": "stdout",
     "output_type": "stream",
     "text": [
      "object\n"
     ]
    },
    {
     "name": "stderr",
     "output_type": "stream",
     "text": [
      "C:\\Users\\merli\\AppData\\Local\\Temp\\ipykernel_25968\\4133788686.py:5: UserWarning: Could not infer format, so each element will be parsed individually, falling back to `dateutil`. To ensure parsing is consistent and as-expected, please specify a format.\n",
      "  df[conf['date_column']] = pd.to_datetime(df[conf['date_column']]).dt.strftime('%Y-%m-%d')  #, format=\"%Y-%m-%d\") #, errors='coerce')\n"
     ]
    }
   ],
   "source": [
    "### Convert data column to datetime and retain only day component\n",
    "if conf['extract_day']:\n",
    "    print(df[conf['date_column']].dtypes)\n",
    "\n",
    "    df[conf['date_column']] = pd.to_datetime(df[conf['date_column']]).dt.strftime('%Y-%m-%d')  #, format=\"%Y-%m-%d\") #, errors='coerce')\n",
    "    df[conf['date_column']].head()"
   ]
  },
  {
   "cell_type": "code",
   "execution_count": 35,
   "metadata": {},
   "outputs": [
    {
     "data": {
      "text/html": [
       "<div>\n",
       "<style scoped>\n",
       "    .dataframe tbody tr th:only-of-type {\n",
       "        vertical-align: middle;\n",
       "    }\n",
       "\n",
       "    .dataframe tbody tr th {\n",
       "        vertical-align: top;\n",
       "    }\n",
       "\n",
       "    .dataframe thead th {\n",
       "        text-align: right;\n",
       "    }\n",
       "</style>\n",
       "<table border=\"1\" class=\"dataframe\">\n",
       "  <thead>\n",
       "    <tr style=\"text-align: right;\">\n",
       "      <th></th>\n",
       "      <th>DATE OCC</th>\n",
       "      <th>AREA</th>\n",
       "    </tr>\n",
       "  </thead>\n",
       "  <tbody>\n",
       "    <tr>\n",
       "      <th>0</th>\n",
       "      <td>2020-03-01</td>\n",
       "      <td>7</td>\n",
       "    </tr>\n",
       "    <tr>\n",
       "      <th>1</th>\n",
       "      <td>2020-02-08</td>\n",
       "      <td>1</td>\n",
       "    </tr>\n",
       "    <tr>\n",
       "      <th>2</th>\n",
       "      <td>2020-11-04</td>\n",
       "      <td>3</td>\n",
       "    </tr>\n",
       "    <tr>\n",
       "      <th>3</th>\n",
       "      <td>2020-03-10</td>\n",
       "      <td>9</td>\n",
       "    </tr>\n",
       "    <tr>\n",
       "      <th>4</th>\n",
       "      <td>2020-08-17</td>\n",
       "      <td>6</td>\n",
       "    </tr>\n",
       "  </tbody>\n",
       "</table>\n",
       "</div>"
      ],
      "text/plain": [
       "     DATE OCC  AREA\n",
       "0  2020-03-01     7\n",
       "1  2020-02-08     1\n",
       "2  2020-11-04     3\n",
       "3  2020-03-10     9\n",
       "4  2020-08-17     6"
      ]
     },
     "execution_count": 35,
     "metadata": {},
     "output_type": "execute_result"
    }
   ],
   "source": [
    "df.head()"
   ]
  },
  {
   "cell_type": "code",
   "execution_count": 36,
   "metadata": {},
   "outputs": [
    {
     "name": "stdout",
     "output_type": "stream",
     "text": [
      "Lambda: 39.673444239063464 for area 1, on the basis of 64390 crimes.\n",
      "L1 distance: 0.6545\n",
      "L-inf distance: 0.035\n",
      "\n",
      "Lambda: 27.277264325323475 for area 2, on the basis of 44271 crimes.\n",
      "L1 distance: 0.3257\n",
      "L-inf distance: 0.0234\n",
      "\n",
      "Lambda: 33.224892174984596 for area 3, on the basis of 53924 crimes.\n",
      "L1 distance: 0.3623\n",
      "L-inf distance: 0.0274\n",
      "\n",
      "Lambda: 21.579174368453483 for area 4, on the basis of 35023 crimes.\n",
      "L1 distance: 0.2549\n",
      "L-inf distance: 0.0213\n",
      "\n",
      "Lambda: 24.242760320394332 for area 5, on the basis of 39346 crimes.\n",
      "L1 distance: 0.2283\n",
      "L-inf distance: 0.0207\n",
      "\n",
      "Lambda: 30.71780653111522 for area 6, on the basis of 49855 crimes.\n",
      "L1 distance: 0.3693\n",
      "L-inf distance: 0.0258\n",
      "\n",
      "Lambda: 28.06223043746149 for area 7, on the basis of 45545 crimes.\n",
      "L1 distance: 0.3463\n",
      "L-inf distance: 0.0231\n",
      "\n",
      "Lambda: 26.714725816389404 for area 8, on the basis of 43358 crimes.\n",
      "L1 distance: 0.2732\n",
      "L-inf distance: 0.0222\n",
      "\n",
      "Lambda: 25.046210720887245 for area 9, on the basis of 40650 crimes.\n",
      "L1 distance: 0.2159\n",
      "L-inf distance: 0.018\n",
      "\n",
      "Lambda: 24.809611829944547 for area 10, on the basis of 40266 crimes.\n",
      "L1 distance: 0.3078\n",
      "L-inf distance: 0.0333\n",
      "\n",
      "Lambda: 24.961799137399876 for area 11, on the basis of 40513 crimes.\n",
      "L1 distance: 0.2938\n",
      "L-inf distance: 0.0224\n",
      "\n",
      "Lambda: 36.69685767097967 for area 12, on the basis of 59559 crimes.\n",
      "L1 distance: 0.2994\n",
      "L-inf distance: 0.0223\n",
      "\n",
      "Lambda: 28.884781269254468 for area 13, on the basis of 46880 crimes.\n",
      "L1 distance: 0.3889\n",
      "L-inf distance: 0.027\n",
      "\n",
      "Lambda: 34.20024645717807 for area 14, on the basis of 55507 crimes.\n",
      "L1 distance: 0.254\n",
      "L-inf distance: 0.023\n",
      "\n",
      "Lambda: 29.794208256315464 for area 15, on the basis of 48356 crimes.\n",
      "L1 distance: 0.2026\n",
      "L-inf distance: 0.018\n",
      "\n",
      "Lambda: 19.54007398273736 for area 16, on the basis of 31694 crimes.\n",
      "L1 distance: 0.2256\n",
      "L-inf distance: 0.0249\n",
      "\n",
      "Lambda: 24.290203327171906 for area 17, on the basis of 39423 crimes.\n",
      "L1 distance: 0.2694\n",
      "L-inf distance: 0.023\n",
      "\n",
      "Lambda: 29.58287122612446 for area 18, on the basis of 48013 crimes.\n",
      "L1 distance: 0.2898\n",
      "L-inf distance: 0.0204\n",
      "\n",
      "Lambda: 23.483353884093713 for area 19, on the basis of 38090 crimes.\n",
      "L1 distance: 0.2835\n",
      "L-inf distance: 0.0252\n",
      "\n",
      "Lambda: 29.38385705483672 for area 20, on the basis of 47690 crimes.\n",
      "L1 distance: 0.3321\n",
      "L-inf distance: 0.0216\n",
      "\n",
      "Lambda: 24.186691312384472 for area 21, on the basis of 39255 crimes.\n",
      "L1 distance: 0.2632\n",
      "L-inf distance: 0.0256\n",
      "\n",
      "Lambdas: [39.67, 27.28, 33.22, 21.58, 24.24, 30.72, 28.06, 26.71, 25.05, 24.81, 24.96, 36.7, 28.88, 34.2, 29.79, 19.54, 24.29, 29.58, 23.48, 29.38, 24.19]\n"
     ]
    },
    {
     "data": {
      "image/png": "[encoded data removed]",
      "text/plain": [
       "<Figure size 640x480 with 1 Axes>"
      ]
     },
     "metadata": {},
     "output_type": "display_data"
    }
   ],
   "source": [
    "areas = []\n",
    "lambdas = []\n",
    "\n",
    "# Iterate over areas in the dataframe\n",
    "for area in sorted(list(df[conf['area_column']].unique())):\n",
    "\n",
    "    # Filter the dataframe for the current area\n",
    "    area_df = df.loc[df[conf['area_column']] == area].copy()\n",
    "\n",
    "    # Skip areas with less than 50 crimes\n",
    "    num_crimes = len(area_df)\n",
    "    if num_crimes < 50:\n",
    "        print(f\"Area {area} has less than 50 crimes. Skipping...\")\n",
    "        continue\n",
    "\n",
    "    # Group by date and count the number of crimes of each day\n",
    "    area_df = area_df.groupby(conf['date_column']).size().reset_index(name='count')\n",
    "\n",
    "    # Calculate the mean number of crimes per day\n",
    "    lambda_ = area_df['count'].mean()\n",
    "    print(f\"Lambda: {lambda_} for area {area}, on the basis of {num_crimes} crimes.\")\n",
    "\n",
    "    # validation -> l1 and l-inf distance between the empirical distribution and the poisson distribution\n",
    "    empirical_dist = area_df['count'].value_counts(normalize=True)\n",
    "    poisson_dist = poisson.pmf(empirical_dist.index, lambda_)\n",
    "\n",
    "    l1 = sum(abs(empirical_dist - poisson_dist))\n",
    "    linf = max(abs(empirical_dist - poisson_dist))\n",
    "\n",
    "    print(f\"L1 distance: {round(l1, 4)}\")\n",
    "    print(f\"L-inf distance: {round(linf, 4)}\\n\")\n",
    "\n",
    "    areas.append(area)\n",
    "    lambdas.append(lambda_)\n",
    "\n",
    "print(f\"Lambdas: {[round(l, 2) for l in lambdas]}\")\n",
    "\n",
    "# Plot bar plot\n",
    "plt.bar(areas, lambdas)\n",
    "plt.xlabel('Area')\n",
    "plt.ylabel('Mean number of crimes')\n",
    "plt.title('Mean number of crimes per area')\n",
    "plt.show()"
   ]
  }
 ],
 "metadata": {
  "kernelspec": {
   "display_name": "ethics2",
   "language": "python",
   "name": "python3"
  },
  "language_info": {
   "codemirror_mode": {
    "name": "ipython",
    "version": 3
   },
   "file_extension": ".py",
   "mimetype": "text/x-python",
   "name": "python",
   "nbconvert_exporter": "python",
   "pygments_lexer": "ipython3",
   "version": "3.11.9"
  }
 },
 "nbformat": 4,
 "nbformat_minor": 2
}
